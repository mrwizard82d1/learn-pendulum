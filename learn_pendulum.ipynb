{
 "cells": [
  {
   "cell_type": "markdown",
   "metadata": {
    "collapsed": true,
    "pycharm": {
     "name": "#%% md\n"
    }
   },
   "source": [
    "# Learning the Python `pendulum` package."
   ]
  },
  {
   "cell_type": "code",
   "execution_count": null,
   "outputs": [],
   "source": [
    "import datetime as dt\n",
    "\n",
    "import pendulum"
   ],
   "metadata": {
    "collapsed": false,
    "pycharm": {
     "name": "#%%\n"
    }
   }
  },
  {
   "cell_type": "markdown",
   "source": [
    "The package performs all comparisons in _UTC_ or in the timezone of the `datetime`\n",
    "being used."
   ],
   "metadata": {
    "collapsed": false,
    "pycharm": {
     "name": "#%% md\n"
    }
   }
  },
  {
   "cell_type": "code",
   "execution_count": null,
   "outputs": [],
   "source": [
    "dt_toronto = pendulum.datetime(2012, 1, 1, tz='America/Toronto')\n",
    "dt_vancouver = pendulum.datetime(2012, 1, 1, tz='America/Vancouver')\n",
    "(dt_vancouver - dt_toronto).in_hours()"
   ],
   "metadata": {
    "collapsed": false,
    "pycharm": {
     "name": "#%%\n"
    }
   }
  },
  {
   "cell_type": "markdown",
   "source": [
    "The default timezone, except when using the `now()` method, will always be in _UTC_."
   ],
   "metadata": {
    "collapsed": false,
    "pycharm": {
     "name": "#%% md\n"
    }
   }
  },
  {
   "cell_type": "code",
   "execution_count": null,
   "outputs": [],
   "source": [
    "# The main `datetime()` helper\n",
    "pdt = pendulum.datetime(2015, 2, 5)\n",
    "isinstance(pdt, dt.datetime)"
   ],
   "metadata": {
    "collapsed": false,
    "pycharm": {
     "name": "#%%\n"
    }
   }
  },
  {
   "cell_type": "code",
   "execution_count": null,
   "outputs": [],
   "source": [
    "pdt.timezone.name"
   ],
   "metadata": {
    "collapsed": false,
    "pycharm": {
     "name": "#%%\n"
    }
   }
  },
  {
   "cell_type": "markdown",
   "source": [
    "If not specified, sets the time to _00:00:00_. Additionally, if unspecified sets the\n",
    "timezone (the `tz` keyword argument) to _UTC_. One can specify the timezone using a\n",
    "`TimeZone` instance or simply a string representing a timezone value (from the IANA\n",
    "timezone database)."
   ],
   "metadata": {
    "collapsed": false,
    "pycharm": {
     "name": "#%% md\n"
    }
   }
  },
  {
   "cell_type": "code",
   "execution_count": null,
   "outputs": [],
   "source": [
    "print(pendulum.datetime(2015, 2, 5, tz='Europe/Paris'))\n",
    "tz = pendulum.timezone('Europe/Paris')\n",
    "print(pendulum.datetime(2015, 2, 5, tz=tz))"
   ],
   "metadata": {
    "collapsed": false,
    "pycharm": {
     "name": "#%%\n"
    }
   }
  },
  {
   "cell_type": "markdown",
   "source": [
    "The special timezone string, \"local\", is supported and will return your current timezone."
   ],
   "metadata": {
    "collapsed": false,
    "pycharm": {
     "name": "#%% md\n"
    }
   }
  },
  {
   "cell_type": "markdown",
   "source": [
    "The `local()` helper is similar to `datetime()` but automatically sets the timezone\n",
    "to the local timezone."
   ],
   "metadata": {
    "collapsed": false,
    "pycharm": {
     "name": "#%% md\n"
    }
   }
  },
  {
   "cell_type": "code",
   "execution_count": null,
   "outputs": [],
   "source": [
    "pdt = pendulum.local(2015, 2, 5)\n",
    "print(pdt.timezone.name)\n",
    "\n",
    "# Note that `local()` is just an alias for `datetime(..., tz='local')`"
   ],
   "metadata": {
    "collapsed": false,
    "pycharm": {
     "name": "#%%\n"
    }
   }
  },
  {
   "cell_type": "markdown",
   "source": [
    "There is also the `now()` method."
   ],
   "metadata": {
    "collapsed": false,
    "pycharm": {
     "name": "#%% md\n"
    }
   }
  },
  {
   "cell_type": "code",
   "execution_count": null,
   "outputs": [],
   "source": [
    "pdt_now = pendulum.now()\n",
    "print(pdt_now)\n",
    "\n",
    "pdt_now_in_london = pendulum.now(tz='Europe/London')\n",
    "print(pdt_now_in_london)\n",
    "\n",
    "print(pdt_now_in_london.timezone.name)"
   ],
   "metadata": {
    "collapsed": false,
    "pycharm": {
     "name": "#%%\n"
    }
   }
  },
  {
   "cell_type": "markdown",
   "source": [
    "To accompany `now()`, a few other helpers exist to create known instances. The only thing\n",
    "to really notice about `today()`, `tomorrow()`, and `yesterday()`, besides behaving like\n",
    "the name suggests, all accept a timezone parameter and each result has the time component\n",
    "set to \"00:00:00\"."
   ],
   "metadata": {
    "collapsed": false,
    "pycharm": {
     "name": "#%% md\n"
    }
   }
  },
  {
   "cell_type": "code",
   "execution_count": null,
   "outputs": [],
   "source": [
    "now = pendulum.now()\n",
    "print(now)\n",
    "\n",
    "today = pendulum.today()\n",
    "print(today)\n",
    "\n",
    "tomorrow = pendulum.tomorrow('Europe/London')\n",
    "print(tomorrow)\n",
    "\n",
    "yesterday = pendulum.yesterday()\n",
    "print(yesterday)"
   ],
   "metadata": {
    "collapsed": false,
    "pycharm": {
     "name": "#%%\n"
    }
   }
  },
  {
   "cell_type": "markdown",
   "source": [
    "Pendulum enforces timezone-aware datetimes, and using them is the preferred and recommended\n",
    "way of using the library; however, if you really need a **naive** `DateTime` object, the\n",
    "`naive()` helper is there for you."
   ],
   "metadata": {
    "collapsed": false,
    "pycharm": {
     "name": "#%% md\n"
    }
   }
  },
  {
   "cell_type": "code",
   "execution_count": null,
   "outputs": [],
   "source": [
    "naive_pdt = pendulum.naive(2015, 2, 5)\n",
    "print(f'{naive_pdt=}')\n",
    "print(f'{naive_pdt.timezone=}')"
   ],
   "metadata": {
    "collapsed": false,
    "pycharm": {
     "name": "#%%\n"
    }
   }
  },
  {
   "cell_type": "markdown",
   "source": [
    "The next helper, `from_format()`, is similar to the native`datetime.datetime.strptime()`,\n",
    "but uses custom tokens to create a `DateTime` instance."
   ],
   "metadata": {
    "collapsed": false,
    "pycharm": {
     "name": "#%% md\n"
    }
   }
  },
  {
   "cell_type": "code",
   "execution_count": null,
   "outputs": [],
   "source": [
    "parsed_pdt = pendulum.from_format('1975-05-21 22', 'YYYY-MM-DD HH')\n",
    "print(f'{parsed_pdt=}')"
   ],
   "metadata": {
    "collapsed": false,
    "pycharm": {
     "name": "#%%\n"
    }
   }
  },
  {
   "cell_type": "markdown",
   "source": [
    "The `from_format()` helper also accepts a `tz` keyword parameter to specify the timezone."
   ],
   "metadata": {
    "collapsed": false,
    "pycharm": {
     "name": "#%% md\n"
    }
   }
  },
  {
   "cell_type": "code",
   "execution_count": null,
   "outputs": [],
   "source": [
    "parsed_with_tz = pendulum.from_format('1975-05-21 22', 'YYYY-MM-DD HH', tz='Europe/London')\n",
    "print(f'{parsed_with_tz}')"
   ],
   "metadata": {
    "collapsed": false,
    "pycharm": {
     "name": "#%%\n"
    }
   }
  },
  {
   "cell_type": "markdown",
   "source": [
    "The final helper is for working with Unix timestamps. The `from_timestamp()` helper creates\n",
    "a `DateTime` instance equal to the given timestamp and will set the timezone as well.\n",
    "(It defaults to _UTC_.)"
   ],
   "metadata": {
    "collapsed": false,
    "pycharm": {
     "name": "#%% md\n"
    }
   }
  },
  {
   "cell_type": "code",
   "execution_count": null,
   "outputs": [],
   "source": [
    "from_unix_timestamp_pdt = pendulum.from_timestamp(-1)\n",
    "print(f'{from_unix_timestamp_pdt}')\n",
    "\n",
    "from_unix_timestamp_with_tz = pendulum.from_timestamp(-1, tz='Europe/London')\n",
    "print(from_unix_timestamp_with_tz)"
   ],
   "metadata": {
    "collapsed": false,
    "pycharm": {
     "name": "#%%\n"
    }
   }
  },
  {
   "cell_type": "markdown",
   "source": [
    "Finally, if you find yourself \"inheriting\" a `datetime.datetime` instance, you can use\n",
    "the `instance()` helper to create a `DateTime` instance."
   ],
   "metadata": {
    "collapsed": false,
    "pycharm": {
     "name": "#%% md\n"
    }
   }
  },
  {
   "cell_type": "code",
   "execution_count": null,
   "outputs": [],
   "source": [
    "inherited_pdt = pendulum.instance(dt.datetime(2008, 1, 1))\n",
    "print(inherited_pdt)"
   ],
   "metadata": {
    "collapsed": false,
    "pycharm": {
     "name": "#%%\n"
    }
   }
  },
  {
   "cell_type": "code",
   "execution_count": null,
   "outputs": [],
   "source": [],
   "metadata": {
    "collapsed": false,
    "pycharm": {
     "name": "#%%\n"
    }
   }
  }
 ],
 "metadata": {
  "kernelspec": {
   "display_name": "Python 3",
   "language": "python",
   "name": "python3"
  },
  "language_info": {
   "codemirror_mode": {
    "name": "ipython",
    "version": 2
   },
   "file_extension": ".py",
   "mimetype": "text/x-python",
   "name": "python",
   "nbconvert_exporter": "python",
   "pygments_lexer": "ipython2",
   "version": "2.7.6"
  }
 },
 "nbformat": 4,
 "nbformat_minor": 0
}